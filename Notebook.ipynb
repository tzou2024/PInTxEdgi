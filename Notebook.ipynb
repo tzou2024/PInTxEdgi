{
 "cells": [
  {
   "cell_type": "markdown",
   "source": [
    "turnip <3"
   ],
   "metadata": {}
  }
 ],
 "metadata": {
  "orig_nbformat": 4,
  "language_info": {
   "name": "plaintext"
  }
 },
 "nbformat": 4,
 "nbformat_minor": 2
}